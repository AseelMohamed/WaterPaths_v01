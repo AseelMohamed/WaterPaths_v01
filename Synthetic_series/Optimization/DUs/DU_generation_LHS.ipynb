{
 "cells": [
  {
   "cell_type": "code",
   "execution_count": 1,
   "id": "4f09368e",
   "metadata": {},
   "outputs": [],
   "source": [
    "from pyDOE import *"
   ]
  },
  {
   "cell_type": "code",
   "execution_count": 3,
   "id": "eccfff6b",
   "metadata": {},
   "outputs": [],
   "source": [
    "LHS = lhs(7,samples=1000)"
   ]
  },
  {
   "cell_type": "code",
   "execution_count": 4,
   "id": "6db2b77a",
   "metadata": {},
   "outputs": [
    {
     "data": {
      "text/plain": [
       "array([[0.44840805, 0.17053558, 0.05796256, ..., 0.96782634, 0.03563113,\n",
       "        0.28011208],\n",
       "       [0.11519364, 0.54130182, 0.56731222, ..., 0.37401073, 0.02501657,\n",
       "        0.39462816],\n",
       "       [0.93201925, 0.69630886, 0.61611754, ..., 0.96500226, 0.02175382,\n",
       "        0.70795729],\n",
       "       ...,\n",
       "       [0.51014405, 0.19187525, 0.43727736, ..., 0.93492824, 0.36696938,\n",
       "        0.28162067],\n",
       "       [0.1031279 , 0.27474184, 0.00862759, ..., 0.10635752, 0.53169035,\n",
       "        0.04444447],\n",
       "       [0.33557472, 0.84280026, 0.48756658, ..., 0.95312101, 0.79235222,\n",
       "        0.13487045]])"
      ]
     },
     "execution_count": 4,
     "metadata": {},
     "output_type": "execute_result"
    }
   ],
   "source": [
    "LHS"
   ]
  },
  {
   "cell_type": "code",
   "execution_count": 5,
   "id": "e5c10d5c",
   "metadata": {},
   "outputs": [],
   "source": [
    "import pandas as pd"
   ]
  },
  {
   "cell_type": "code",
   "execution_count": 6,
   "id": "8e3b92bb",
   "metadata": {},
   "outputs": [],
   "source": [
    "LHS_df = pd.DataFrame(LHS)"
   ]
  },
  {
   "cell_type": "code",
   "execution_count": 7,
   "id": "0e80b749",
   "metadata": {},
   "outputs": [],
   "source": [
    "LHS_df.to_excel(r'E:\\UNB\\Projeto\\PRGroup\\series_sinteticas\\DUs\\DU_Reeval\\Base_LHS.xlsx', index=False)"
   ]
  },
  {
   "cell_type": "code",
   "execution_count": null,
   "id": "1b80c863",
   "metadata": {},
   "outputs": [],
   "source": []
  }
 ],
 "metadata": {
  "kernelspec": {
   "display_name": "Python 3",
   "language": "python",
   "name": "python3"
  },
  "language_info": {
   "codemirror_mode": {
    "name": "ipython",
    "version": 3
   },
   "file_extension": ".py",
   "mimetype": "text/x-python",
   "name": "python",
   "nbconvert_exporter": "python",
   "pygments_lexer": "ipython3",
   "version": "3.8.8"
  }
 },
 "nbformat": 4,
 "nbformat_minor": 5
}
